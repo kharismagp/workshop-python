{
 "cells": [
  {
   "cell_type": "markdown",
   "metadata": {},
   "source": [
    "#### Nama : Kharisma Gilang P\n",
    "#### NIM : 175410127\n",
    "---\n",
    "\n",
    "# Membuat aplikasi Python dengan CockroachDB dan psycopg2 (insecure)\n",
    "\n",
    "Install CockroachDB pada Windows\n",
    "\n",
    "1. Pertama - tama download dan ekstrak file CockroachDB di Windows PC anda.\n",
    "\n",
    "2. Buka powershell dan arahkan ke direktori file tsb didownload dan ketikkan dibawah ini.\n",
    "\n",
    " `.\\cockroach.exe version`"
   ]
  },
  {
   "cell_type": "markdown",
   "metadata": {},
   "source": [
    "## Step 1. Install driver psycopg\n",
    " \n",
    " instal menggunakan pip"
   ]
  },
  {
   "cell_type": "code",
   "execution_count": 1,
   "metadata": {},
   "outputs": [
    {
     "name": "stdout",
     "output_type": "stream",
     "text": [
      "Note: you may need to restart the kernel to use updated packages.\n"
     ]
    },
    {
     "name": "stderr",
     "output_type": "stream",
     "text": [
      "'C:\\Users\\Kharisma' is not recognized as an internal or external command,\n",
      "operable program or batch file.\n"
     ]
    }
   ],
   "source": [
    "pip install psycopg2"
   ]
  },
  {
   "cell_type": "markdown",
   "metadata": {},
   "source": [
    "Berhubung saya tidak bisa install menggunakan Jupyter Lab maka saya menggunakan CMD dari Windows\n",
    "\n",
    "[![Screenshot-1.png](https://i.postimg.cc/029kDvQS/Screenshot-1.png)](https://postimg.cc/14Y11LDR)"
   ]
  },
  {
   "cell_type": "markdown",
   "metadata": {},
   "source": [
    "## Step 2. Buat user `maxroach` dan database `bank`\n",
    "\n",
    "Saya menggunakan CMD karena tidak bisa dengan Jupyter Lab. Aktifkan program CockroachDB beserta parameternya pada direktori yang ingin dituju.\n",
    "\n",
    "[![Screenshot-3.png](https://i.postimg.cc/J45qyHx8/Screenshot-3.png)](https://postimg.cc/WhtrC3xY)\n",
    "\n",
    "Program CockroachDB akan meng generate file2 secara otomatis pada direktori tersebut.\n",
    "\n",
    "[![Screenshot-4.png](https://i.postimg.cc/x1jPLjpz/Screenshot-4.png)](https://postimg.cc/qzYnTrTJ)\n",
    "\n",
    "Setelah itu buka CMD baru dan ketikkan `cockroach sql --insecure` untuk memulai built in SQL shell. Dan ketikkan statement berikut untuk membuat user dan database.\n",
    "\n",
    "[![Screenshot-2.png](https://i.postimg.cc/vHshHtWX/Screenshot-2.png)](https://postimg.cc/YjdYdgDm)\n",
    "\n"
   ]
  },
  {
   "cell_type": "markdown",
   "metadata": {},
   "source": [
    "## Step 3. Jalankan kode Python\n",
    "\n",
    "- Membuat tabel `accounts` dan masukkan beberapa baris.\n",
    "- Transfer dana antar dua akun didalam `transaction`.\n",
    "- Menghapus accounts dari tabel sebelum keluar jadi agar bisa di run kembali kode example.py nya.\n",
    "\n",
    "Download dan ekstrak repositori [hello-world-python-psycopg2](https://github.com/cockroachlabs/hello-world-python-psycopg2) dari Github.\n",
    "\n",
    "Buka CMD pada direktori file example.py berada dan jalankan kodenya `python example.py`:\n",
    "\n",
    "[![ss-example-py.png](https://i.postimg.cc/Hx26qSxr/ss-example-py.png)](https://postimg.cc/9RDPTYy2)"
   ]
  },
  {
   "cell_type": "markdown",
   "metadata": {},
   "source": [
    "# Membuat aplikasi Python dengan CockroachDB dan SQLAlchemy (insecure)\n",
    "\n",
    "## Step 1. Install SQLAlchemy\n",
    "\n",
    "[![pip-sqlalchemy.png](https://i.postimg.cc/Xvx2hHXp/pip-sqlalchemy.png)](https://postimg.cc/06MdKCYs)\n",
    "\n",
    "## Step 2. Buat user `maxroach` dan database `bank`\n",
    "\n",
    "Untuk memulai built in SQL shell. Dan ketikkan statement berikut untuk membuat user dan database.\n",
    "\n",
    "[![Screenshot-2.png](https://i.postimg.cc/vHshHtWX/Screenshot-2.png)](https://postimg.cc/YjdYdgDm)\n",
    "\n",
    "## Step 3. Jalankan kode Python\n",
    "\n",
    "Download dan ekstrak repositori [hello-world-python-sqlalchemy](https://github.com/cockroachlabs/hello-world-python-sqlalchemy) dari Github.\n",
    "\n",
    "[![Screenshot-6.png](https://i.postimg.cc/jdvxSKW5/Screenshot-6.png)](https://postimg.cc/nCjb3yGb)\n",
    "\n",
    "Jangan lupa edit kode example di bagian `secure_cluster` di set menjadi False karena saya tidak menggunakan secure cluster melainkan insecure\n",
    "\n",
    "[![Screenshot-5.png](https://i.postimg.cc/fWcW1YDY/Screenshot-5.png)](https://postimg.cc/fkbh9t3b)\n",
    "\n",
    "Jalankan kode dengan perintah `python example-sqlalchemy.py`. Disini saya menggunakan terminal VS Code\n",
    "\n",
    "[![Screenshot-7.png](https://i.postimg.cc/CKnS7qcB/Screenshot-7.png)](https://postimg.cc/d7FbtLPw)\n",
    "\n",
    "Untuk memastikan bahwa tabel dan baris berhasil dibuat, jalankan built in SQL client:\n",
    "\n",
    "Ketikkan statement `SELECT COUNT(*) FROM bank.accounts;`\n",
    "\n",
    "[![Screenshot-8.png](https://i.postimg.cc/k4FDX66H/Screenshot-8.png)](https://postimg.cc/vgTG0mv7)\n",
    "\n",
    "Informasi pada WebUI\n",
    "\n",
    "[![Screenshot-9.png](https://i.postimg.cc/4N1MbJVT/Screenshot-9.png)](https://postimg.cc/zVV0qYxd)\n",
    "\n",
    "Bisa dilihat disini bahwa relasi accounts telah ada di database bank\n",
    "\n",
    "[![Screenshot-10.png](https://i.postimg.cc/RZFP7wvc/Screenshot-10.png)](https://postimg.cc/svk9yQQX)"
   ]
  }
 ],
 "metadata": {
  "kernelspec": {
   "display_name": "Python 3.8.2 64-bit",
   "language": "python",
   "name": "python38264bit5caddf92fa7141ac9c2b0fd893aa033b"
  },
  "language_info": {
   "codemirror_mode": {
    "name": "ipython",
    "version": 3
   },
   "file_extension": ".py",
   "mimetype": "text/x-python",
   "name": "python",
   "nbconvert_exporter": "python",
   "pygments_lexer": "ipython3",
   "version": "3.8.2"
  }
 },
 "nbformat": 4,
 "nbformat_minor": 4
}
