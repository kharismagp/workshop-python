{
  "nbformat": 4,
  "nbformat_minor": 0,
  "metadata": {
    "kernelspec": {
      "display_name": "Python 3",
      "language": "python",
      "name": "python3"
    },
    "language_info": {
      "codemirror_mode": {
        "name": "ipython",
        "version": 3
      },
      "file_extension": ".py",
      "mimetype": "text/x-python",
      "name": "python",
      "nbconvert_exporter": "python",
      "pygments_lexer": "ipython3",
      "version": "3.8.2"
    },
    "colab": {
      "name": "minggu-14.ipynb",
      "provenance": [],
      "collapsed_sections": []
    }
  },
  "cells": [
    {
      "cell_type": "markdown",
      "metadata": {
        "id": "mgKcDdGKOKDw",
        "colab_type": "text"
      },
      "source": [
        "#### Nama : Kharisma Gilang P\n",
        "#### NIM : 175410127\n",
        "---\n",
        "\n",
        "# Python untuk Machine Learning\n",
        "\n",
        "# An introduction to machine learning with scikit-learn"
      ]
    },
    {
      "cell_type": "markdown",
      "metadata": {
        "id": "qYDOzPM8OKD1",
        "colab_type": "text"
      },
      "source": [
        "## Loading example dataset\n",
        "\n",
        "scikit-learn dilengkapi dengan beberapa dataset standar, misalnya set data iris dan digit untuk klasifikasi dan [diabetes dataset](https://www4.stat.ncsu.edu/~boos/var.select/diabetes.html) untuk regresi."
      ]
    },
    {
      "cell_type": "code",
      "metadata": {
        "id": "9L87c9J9OgZ7",
        "colab_type": "code",
        "colab": {
          "base_uri": "https://localhost:8080/",
          "height": 102
        },
        "outputId": "4519aae3-5a33-4ddd-d0f0-0926c51a35a0"
      },
      "source": [
        "pip install -U scikit-learn"
      ],
      "execution_count": 1,
      "outputs": [
        {
          "output_type": "stream",
          "text": [
            "Requirement already up-to-date: scikit-learn in /usr/local/lib/python3.6/dist-packages (0.23.1)\n",
            "Requirement already satisfied, skipping upgrade: numpy>=1.13.3 in /usr/local/lib/python3.6/dist-packages (from scikit-learn) (1.18.4)\n",
            "Requirement already satisfied, skipping upgrade: joblib>=0.11 in /usr/local/lib/python3.6/dist-packages (from scikit-learn) (0.15.1)\n",
            "Requirement already satisfied, skipping upgrade: threadpoolctl>=2.0.0 in /usr/local/lib/python3.6/dist-packages (from scikit-learn) (2.1.0)\n",
            "Requirement already satisfied, skipping upgrade: scipy>=0.19.1 in /usr/local/lib/python3.6/dist-packages (from scikit-learn) (1.4.1)\n"
          ],
          "name": "stdout"
        }
      ]
    },
    {
      "cell_type": "code",
      "metadata": {
        "id": "m8wgLm5JOKD5",
        "colab_type": "code",
        "colab": {}
      },
      "source": [
        "from sklearn import datasets\n",
        "iris = datasets.load_iris()\n",
        "digits = datasets.load_digits()"
      ],
      "execution_count": 0,
      "outputs": []
    },
    {
      "cell_type": "markdown",
      "metadata": {
        "id": "Ifj0zLr1OKEI",
        "colab_type": "text"
      },
      "source": [
        "Dataset adalah objek seperti kamus yang menampung semua data dan beberapa metadata tentang data.\n",
        "\n",
        "Misalnya, dalam kasus dataset digit, digits.data memberikan akses ke fitur yang dapat digunakan untuk mengklasifikasikan sampel digit:"
      ]
    },
    {
      "cell_type": "code",
      "metadata": {
        "id": "AHgzbR2lOKEL",
        "colab_type": "code",
        "colab": {
          "base_uri": "https://localhost:8080/",
          "height": 136
        },
        "outputId": "e1c51975-6d6a-456d-d4ea-9762bafbea80"
      },
      "source": [
        "print(digits.data)"
      ],
      "execution_count": 3,
      "outputs": [
        {
          "output_type": "stream",
          "text": [
            "[[ 0.  0.  5. ...  0.  0.  0.]\n",
            " [ 0.  0.  0. ... 10.  0.  0.]\n",
            " [ 0.  0.  0. ... 16.  9.  0.]\n",
            " ...\n",
            " [ 0.  0.  1. ...  6.  0.  0.]\n",
            " [ 0.  0.  2. ... 12.  0.  0.]\n",
            " [ 0.  0. 10. ... 12.  1.  0.]]\n"
          ],
          "name": "stdout"
        }
      ]
    },
    {
      "cell_type": "markdown",
      "metadata": {
        "id": "0oX40noGOKEb",
        "colab_type": "text"
      },
      "source": [
        "dan digits.target memberikan kebenaran dasar untuk dataset digit, yaitu angka yang sesuai dengan setiap gambar digit yang kami coba pelajari:"
      ]
    },
    {
      "cell_type": "code",
      "metadata": {
        "id": "smYeZHAFOKEd",
        "colab_type": "code",
        "colab": {
          "base_uri": "https://localhost:8080/",
          "height": 34
        },
        "outputId": "7bbcc550-0adb-4ed0-b747-56e25e167e6f"
      },
      "source": [
        "digits.target"
      ],
      "execution_count": 4,
      "outputs": [
        {
          "output_type": "execute_result",
          "data": {
            "text/plain": [
              "array([0, 1, 2, ..., 8, 9, 8])"
            ]
          },
          "metadata": {
            "tags": []
          },
          "execution_count": 4
        }
      ]
    },
    {
      "cell_type": "markdown",
      "metadata": {
        "id": "9wq8JGZ5OKEp",
        "colab_type": "text"
      },
      "source": [
        "## Shape of the data arrays\n",
        "\n",
        "Data selalu berupa array 2D, shape (n_samples, n_features), meskipun data asli mungkin memiliki bentuk yang berbeda. Dalam hal digit, setiap sampel asli adalah gambar dari shape (8, 8) dan dapat diakses menggunakan:"
      ]
    },
    {
      "cell_type": "code",
      "metadata": {
        "id": "RJWpyBIGOKEr",
        "colab_type": "code",
        "colab": {
          "base_uri": "https://localhost:8080/",
          "height": 153
        },
        "outputId": "f1d463e0-4017-45d5-8c16-b0e71547f264"
      },
      "source": [
        "digits.images[0]"
      ],
      "execution_count": 5,
      "outputs": [
        {
          "output_type": "execute_result",
          "data": {
            "text/plain": [
              "array([[ 0.,  0.,  5., 13.,  9.,  1.,  0.,  0.],\n",
              "       [ 0.,  0., 13., 15., 10., 15.,  5.,  0.],\n",
              "       [ 0.,  3., 15.,  2.,  0., 11.,  8.,  0.],\n",
              "       [ 0.,  4., 12.,  0.,  0.,  8.,  8.,  0.],\n",
              "       [ 0.,  5.,  8.,  0.,  0.,  9.,  8.,  0.],\n",
              "       [ 0.,  4., 11.,  0.,  1., 12.,  7.,  0.],\n",
              "       [ 0.,  2., 14.,  5., 10., 12.,  0.,  0.],\n",
              "       [ 0.,  0.,  6., 13., 10.,  0.,  0.,  0.]])"
            ]
          },
          "metadata": {
            "tags": []
          },
          "execution_count": 5
        }
      ]
    },
    {
      "cell_type": "markdown",
      "metadata": {
        "id": "DXeZ5YMcOKE2",
        "colab_type": "text"
      },
      "source": [
        "## Learning and predicting\n",
        "\n",
        "Dalam kasus dataset digit, tugasnya adalah memprediksi, diberikan gambar, digit mana yang diwakilinya.\n",
        "\n",
        "Contoh estimator adalah class sklearn.svm.SVC, yang mengimplementasikan [support vector classification](https://en.wikipedia.org/wiki/Support_vector_machine). Konstruktor estimator menggunakan parameter model sebagai argumen.\n",
        "\n",
        "Untuk saat ini, estimator sebagai black box:"
      ]
    },
    {
      "cell_type": "code",
      "metadata": {
        "id": "TTR3hjBKOKE4",
        "colab_type": "code",
        "colab": {}
      },
      "source": [
        "from sklearn import svm\n",
        "clf = svm.SVC(gamma=0.001, C=100.)"
      ],
      "execution_count": 0,
      "outputs": []
    },
    {
      "cell_type": "markdown",
      "metadata": {
        "id": "KmUEodFvOKFB",
        "colab_type": "text"
      },
      "source": [
        "clf model (untuk classifier) estimator instance pertama kali dipasang pada model; model harus belajar untuk melakukan klasifikasi"
      ]
    },
    {
      "cell_type": "code",
      "metadata": {
        "id": "vM8-IowAOKFC",
        "colab_type": "code",
        "colab": {
          "base_uri": "https://localhost:8080/",
          "height": 34
        },
        "outputId": "807719bf-c3b0-468f-f0c8-fa3b04405214"
      },
      "source": [
        "clf.fit(digits.data[:-1], digits.target[:-1])"
      ],
      "execution_count": 7,
      "outputs": [
        {
          "output_type": "execute_result",
          "data": {
            "text/plain": [
              "SVC(C=100.0, gamma=0.001)"
            ]
          },
          "metadata": {
            "tags": []
          },
          "execution_count": 7
        }
      ]
    },
    {
      "cell_type": "markdown",
      "metadata": {
        "id": "3rpNkwPwOKFJ",
        "colab_type": "text"
      },
      "source": [
        "Sekarang kita bisa memprediksi nilai yang baru, kita akan memprediksi menggunakan gambar terakhir dari digits.data."
      ]
    },
    {
      "cell_type": "code",
      "metadata": {
        "id": "zwuoCiNuOKFK",
        "colab_type": "code",
        "colab": {
          "base_uri": "https://localhost:8080/",
          "height": 34
        },
        "outputId": "833d4b19-faa6-4d27-99ec-ceff0d550950"
      },
      "source": [
        "clf.predict(digits.data[-1:])"
      ],
      "execution_count": 8,
      "outputs": [
        {
          "output_type": "execute_result",
          "data": {
            "text/plain": [
              "array([8])"
            ]
          },
          "metadata": {
            "tags": []
          },
          "execution_count": 8
        }
      ]
    },
    {
      "cell_type": "markdown",
      "metadata": {
        "id": "VcjfCN79OKFP",
        "colab_type": "text"
      },
      "source": [
        "## Model persistence\n",
        "\n",
        "Ini memungkinkan untuk menyimpan sebuah model di scikit-learn dengan menggunakan Python built-in persistence model, pickle:"
      ]
    },
    {
      "cell_type": "code",
      "metadata": {
        "id": "TTQFE0AlOKFQ",
        "colab_type": "code",
        "colab": {
          "base_uri": "https://localhost:8080/",
          "height": 34
        },
        "outputId": "b0a31598-ebf8-4e98-855c-64e2e01f563e"
      },
      "source": [
        "from sklearn import svm\n",
        "from sklearn import datasets\n",
        "clf = svm.SVC()\n",
        "X, y = datasets.load_iris(return_X_y = True)\n",
        "clf.fit(X, y)"
      ],
      "execution_count": 9,
      "outputs": [
        {
          "output_type": "execute_result",
          "data": {
            "text/plain": [
              "SVC()"
            ]
          },
          "metadata": {
            "tags": []
          },
          "execution_count": 9
        }
      ]
    },
    {
      "cell_type": "code",
      "metadata": {
        "id": "wIE1_7NVOKFU",
        "colab_type": "code",
        "colab": {
          "base_uri": "https://localhost:8080/",
          "height": 34
        },
        "outputId": "1d7d2bf2-3566-436b-c110-2e63581fb434"
      },
      "source": [
        "import pickle\n",
        "s = pickle.dumps(clf)\n",
        "clf2 = pickle.loads(s)\n",
        "clf2.predict(X[0:1])"
      ],
      "execution_count": 10,
      "outputs": [
        {
          "output_type": "execute_result",
          "data": {
            "text/plain": [
              "array([0])"
            ]
          },
          "metadata": {
            "tags": []
          },
          "execution_count": 10
        }
      ]
    },
    {
      "cell_type": "code",
      "metadata": {
        "id": "hW4t5rRuOKFY",
        "colab_type": "code",
        "colab": {
          "base_uri": "https://localhost:8080/",
          "height": 34
        },
        "outputId": "aead6606-b78c-4548-8f93-4ad0ffd1d5f5"
      },
      "source": [
        "y[0]"
      ],
      "execution_count": 11,
      "outputs": [
        {
          "output_type": "execute_result",
          "data": {
            "text/plain": [
              "0"
            ]
          },
          "metadata": {
            "tags": []
          },
          "execution_count": 11
        }
      ]
    },
    {
      "cell_type": "markdown",
      "metadata": {
        "id": "ibkE9TroOKFb",
        "colab_type": "text"
      },
      "source": [
        "Dalam kasus tertentu daru scikit-learn, akan lebih menarik jika menggunakan joblib daripada pickle (joblib.dump & joblib.load), dimana lebih efisien untuk data yang besar namun hanya dapat melakukan pickle ke dalam disk dan bukan ke string:"
      ]
    },
    {
      "cell_type": "code",
      "metadata": {
        "id": "exZx1sTcOKFc",
        "colab_type": "code",
        "colab": {
          "base_uri": "https://localhost:8080/",
          "height": 34
        },
        "outputId": "84101479-2d90-44b5-def5-161d20577229"
      },
      "source": [
        "from joblib import dump, load\n",
        "dump(clf, 'filename.joblib')"
      ],
      "execution_count": 12,
      "outputs": [
        {
          "output_type": "execute_result",
          "data": {
            "text/plain": [
              "['filename.joblib']"
            ]
          },
          "metadata": {
            "tags": []
          },
          "execution_count": 12
        }
      ]
    },
    {
      "cell_type": "markdown",
      "metadata": {
        "id": "H4s04xswOKFf",
        "colab_type": "text"
      },
      "source": [
        "Kemudian, kita dapat memuat ulang model pickle dengan:"
      ]
    },
    {
      "cell_type": "code",
      "metadata": {
        "id": "cx1qjldCOKFg",
        "colab_type": "code",
        "colab": {}
      },
      "source": [
        "clf = load('filename.joblib')"
      ],
      "execution_count": 0,
      "outputs": []
    },
    {
      "cell_type": "markdown",
      "metadata": {
        "id": "rFtiJ9CxOKFj",
        "colab_type": "text"
      },
      "source": [
        "> **Note** functions joblib.dump dan joblib.load juga menerima file object daripada filenames."
      ]
    },
    {
      "cell_type": "markdown",
      "metadata": {
        "id": "9DubjbIJOKFj",
        "colab_type": "text"
      },
      "source": [
        "## Conventions\n",
        "\n",
        "scikit-learn estimators mengikuti aturan tertentu untuk membuat perilakunya lebih prediktif.\n",
        "\n",
        "## Type casting\n",
        "\n",
        "Kecuali jika di spesifikasikan untuk tipe lain, input akan memiliki type `float64`:"
      ]
    },
    {
      "cell_type": "code",
      "metadata": {
        "id": "IWacVkRxOKFk",
        "colab_type": "code",
        "colab": {
          "base_uri": "https://localhost:8080/",
          "height": 34
        },
        "outputId": "83cd4684-7529-452a-9d5f-878018843d46"
      },
      "source": [
        "import numpy as np\n",
        "from sklearn import random_projection\n",
        "\n",
        "rng = np.random.RandomState(0)\n",
        "X = rng.rand(10, 2000)\n",
        "X = np.array(X, dtype='float32')\n",
        "X.dtype"
      ],
      "execution_count": 14,
      "outputs": [
        {
          "output_type": "execute_result",
          "data": {
            "text/plain": [
              "dtype('float32')"
            ]
          },
          "metadata": {
            "tags": []
          },
          "execution_count": 14
        }
      ]
    },
    {
      "cell_type": "code",
      "metadata": {
        "id": "vN4FcXX7OKFn",
        "colab_type": "code",
        "colab": {
          "base_uri": "https://localhost:8080/",
          "height": 34
        },
        "outputId": "6905fabb-d1be-4b9f-95b7-d69f0b4774cc"
      },
      "source": [
        "transformer = random_projection.GaussianRandomProjection()\n",
        "X_new = transformer.fit_transform(X)\n",
        "X_new.dtype"
      ],
      "execution_count": 15,
      "outputs": [
        {
          "output_type": "execute_result",
          "data": {
            "text/plain": [
              "dtype('float64')"
            ]
          },
          "metadata": {
            "tags": []
          },
          "execution_count": 15
        }
      ]
    },
    {
      "cell_type": "markdown",
      "metadata": {
        "id": "Z-vsGsGrOKFr",
        "colab_type": "text"
      },
      "source": [
        "Dalam contoh tersebut, `X` adalah `float32`, dimana akan di rubah ke `float64` oleh `fit_transform(X)`."
      ]
    },
    {
      "cell_type": "code",
      "metadata": {
        "id": "0w6wSJrJOKFr",
        "colab_type": "code",
        "colab": {
          "base_uri": "https://localhost:8080/",
          "height": 34
        },
        "outputId": "a1d1dc5b-3d38-4058-9859-9be96913d0d7"
      },
      "source": [
        "from sklearn import datasets\n",
        "from sklearn.svm import SVC\n",
        "iris = datasets.load_iris()\n",
        "clf = SVC()\n",
        "clf.fit(iris.data, iris.target)"
      ],
      "execution_count": 16,
      "outputs": [
        {
          "output_type": "execute_result",
          "data": {
            "text/plain": [
              "SVC()"
            ]
          },
          "metadata": {
            "tags": []
          },
          "execution_count": 16
        }
      ]
    },
    {
      "cell_type": "code",
      "metadata": {
        "id": "DICcoolvOKFv",
        "colab_type": "code",
        "colab": {
          "base_uri": "https://localhost:8080/",
          "height": 34
        },
        "outputId": "47acc81e-7f8c-4efe-f352-33dc4b9a1a7d"
      },
      "source": [
        "list(clf.predict(iris.data[:3]))"
      ],
      "execution_count": 17,
      "outputs": [
        {
          "output_type": "execute_result",
          "data": {
            "text/plain": [
              "[0, 0, 0]"
            ]
          },
          "metadata": {
            "tags": []
          },
          "execution_count": 17
        }
      ]
    },
    {
      "cell_type": "code",
      "metadata": {
        "id": "7YBh1r95OKFy",
        "colab_type": "code",
        "colab": {
          "base_uri": "https://localhost:8080/",
          "height": 34
        },
        "outputId": "50bf5c8e-942a-4ce5-f895-0bf57d1c119e"
      },
      "source": [
        "clf.fit(iris.data, iris.target_names[iris.target])"
      ],
      "execution_count": 18,
      "outputs": [
        {
          "output_type": "execute_result",
          "data": {
            "text/plain": [
              "SVC()"
            ]
          },
          "metadata": {
            "tags": []
          },
          "execution_count": 18
        }
      ]
    },
    {
      "cell_type": "code",
      "metadata": {
        "id": "t0XG8gKeOKF1",
        "colab_type": "code",
        "colab": {
          "base_uri": "https://localhost:8080/",
          "height": 34
        },
        "outputId": "fb7c7d5a-097c-4f84-e509-a78b00f919ce"
      },
      "source": [
        "list(clf.predict(iris.data[:3]))"
      ],
      "execution_count": 19,
      "outputs": [
        {
          "output_type": "execute_result",
          "data": {
            "text/plain": [
              "['setosa', 'setosa', 'setosa']"
            ]
          },
          "metadata": {
            "tags": []
          },
          "execution_count": 19
        }
      ]
    },
    {
      "cell_type": "markdown",
      "metadata": {
        "id": "mUue1lEpOKF4",
        "colab_type": "text"
      },
      "source": [
        "## Refitting and updating parameters\n",
        "\n",
        "Hyper-parameters dari estimator dapat di update setelah dibagun melalui metode set_params()."
      ]
    },
    {
      "cell_type": "code",
      "metadata": {
        "id": "gvgsSmmuOKF4",
        "colab_type": "code",
        "colab": {}
      },
      "source": [
        "import numpy as np\n",
        "from sklearn.datasets import load_iris\n",
        "from sklearn.svm import SVC\n",
        "X, y = load_iris(return_X_y=True)"
      ],
      "execution_count": 0,
      "outputs": []
    },
    {
      "cell_type": "code",
      "metadata": {
        "id": "o4sy27LVOKF7",
        "colab_type": "code",
        "colab": {
          "base_uri": "https://localhost:8080/",
          "height": 34
        },
        "outputId": "e306d28c-72d8-4a3c-9ad7-af5f9d815369"
      },
      "source": [
        "clf = SVC()\n",
        "clf.set_params(kernel=\"linear\").fit(X, y)"
      ],
      "execution_count": 21,
      "outputs": [
        {
          "output_type": "execute_result",
          "data": {
            "text/plain": [
              "SVC(kernel='linear')"
            ]
          },
          "metadata": {
            "tags": []
          },
          "execution_count": 21
        }
      ]
    },
    {
      "cell_type": "code",
      "metadata": {
        "id": "VZk-gCi7OKF-",
        "colab_type": "code",
        "colab": {
          "base_uri": "https://localhost:8080/",
          "height": 34
        },
        "outputId": "db678efa-4a41-4baf-9f61-87e1ec0abdb2"
      },
      "source": [
        "clf.predict(X[:5])"
      ],
      "execution_count": 22,
      "outputs": [
        {
          "output_type": "execute_result",
          "data": {
            "text/plain": [
              "array([0, 0, 0, 0, 0])"
            ]
          },
          "metadata": {
            "tags": []
          },
          "execution_count": 22
        }
      ]
    },
    {
      "cell_type": "code",
      "metadata": {
        "id": "YJp_nBioOKGC",
        "colab_type": "code",
        "colab": {
          "base_uri": "https://localhost:8080/",
          "height": 34
        },
        "outputId": "49e0ebbd-725d-4dc9-f6e2-ce760b6cd1d4"
      },
      "source": [
        "clf.set_params(kernel=\"rbf\").fit(X, y)"
      ],
      "execution_count": 23,
      "outputs": [
        {
          "output_type": "execute_result",
          "data": {
            "text/plain": [
              "SVC()"
            ]
          },
          "metadata": {
            "tags": []
          },
          "execution_count": 23
        }
      ]
    },
    {
      "cell_type": "code",
      "metadata": {
        "id": "_mBqJPD7OKGG",
        "colab_type": "code",
        "colab": {
          "base_uri": "https://localhost:8080/",
          "height": 34
        },
        "outputId": "da1892b5-8846-47f6-e813-0b8e7851aa6b"
      },
      "source": [
        "clf.predict(X[:5])"
      ],
      "execution_count": 24,
      "outputs": [
        {
          "output_type": "execute_result",
          "data": {
            "text/plain": [
              "array([0, 0, 0, 0, 0])"
            ]
          },
          "metadata": {
            "tags": []
          },
          "execution_count": 24
        }
      ]
    },
    {
      "cell_type": "markdown",
      "metadata": {
        "id": "RRzEmU9oOKGJ",
        "colab_type": "text"
      },
      "source": [
        "## Multiclass vs. multilabel fitting\n",
        "\n",
        "Ketika menggunakan multiclass classifiers, tugas pembelajaran dan prediksi yang dilakukan tergantung pada format data target yang cocok:"
      ]
    },
    {
      "cell_type": "code",
      "metadata": {
        "id": "Y_5sXRFzOKGK",
        "colab_type": "code",
        "colab": {
          "base_uri": "https://localhost:8080/",
          "height": 34
        },
        "outputId": "db0efa69-114f-468d-88a4-20546f8e0315"
      },
      "source": [
        "from sklearn.svm import SVC\n",
        "from sklearn.multiclass import OneVsRestClassifier\n",
        "from sklearn.preprocessing import LabelBinarizer\n",
        "\n",
        "X = [[1, 2], [2, 4], [4, 5], [3, 2], [3, 1]]\n",
        "y = [0, 0, 1, 1, 2]\n",
        "\n",
        "classif = OneVsRestClassifier(estimator=SVC(random_state=0))\n",
        "classif.fit(X, y).predict(X)"
      ],
      "execution_count": 25,
      "outputs": [
        {
          "output_type": "execute_result",
          "data": {
            "text/plain": [
              "array([0, 0, 1, 1, 2])"
            ]
          },
          "metadata": {
            "tags": []
          },
          "execution_count": 25
        }
      ]
    },
    {
      "cell_type": "markdown",
      "metadata": {
        "id": "m-XBadtEOKGN",
        "colab_type": "text"
      },
      "source": [
        "Dalam kasus di atas, classifier cocok pada array 1d label multiclass dan metode `predict()` memberikan prediksi multiclass yang sesuai. Juga di mungkinkan untuk fit pada 2d array oleh indikator label biner:"
      ]
    },
    {
      "cell_type": "code",
      "metadata": {
        "id": "3IV_6cnyOKGN",
        "colab_type": "code",
        "colab": {
          "base_uri": "https://localhost:8080/",
          "height": 102
        },
        "outputId": "ca8f0adb-f4e5-472f-87ad-61d59a09ab31"
      },
      "source": [
        "y = LabelBinarizer().fit_transform(y)\n",
        "classif.fit(X, y).predict(X)"
      ],
      "execution_count": 26,
      "outputs": [
        {
          "output_type": "execute_result",
          "data": {
            "text/plain": [
              "array([[1, 0, 0],\n",
              "       [1, 0, 0],\n",
              "       [0, 1, 0],\n",
              "       [0, 0, 0],\n",
              "       [0, 0, 0]])"
            ]
          },
          "metadata": {
            "tags": []
          },
          "execution_count": 26
        }
      ]
    },
    {
      "cell_type": "markdown",
      "metadata": {
        "id": "YZEclP69OKGQ",
        "colab_type": "text"
      },
      "source": [
        "Di sini, classifier `fit()` pada label biner 2d representasi dari `y`, menggunakan [LabelBinarizer](https://scikit-learn.org/stable/modules/generated/sklearn.preprocessing.LabelBinarizer.html#sklearn.preprocessing.LabelBinarizer). Dalam hal ini `predict()` mengembalikan array 2d yang mewakili prediksi multilabel yang sesuai."
      ]
    },
    {
      "cell_type": "code",
      "metadata": {
        "id": "CKMgDTWCOKGR",
        "colab_type": "code",
        "colab": {
          "base_uri": "https://localhost:8080/",
          "height": 102
        },
        "outputId": "4d862655-8933-4295-e7c7-0d6e61461293"
      },
      "source": [
        "from sklearn.preprocessing import MultiLabelBinarizer\n",
        "y = [[0, 1], [0, 2], [1, 3], [0, 2, 3], [2, 4]]\n",
        "y = MultiLabelBinarizer().fit_transform(y)\n",
        "classif.fit(X, y).predict(X)"
      ],
      "execution_count": 27,
      "outputs": [
        {
          "output_type": "execute_result",
          "data": {
            "text/plain": [
              "array([[1, 1, 0, 0, 0],\n",
              "       [1, 0, 1, 0, 0],\n",
              "       [0, 1, 0, 1, 0],\n",
              "       [1, 0, 1, 0, 0],\n",
              "       [1, 0, 1, 0, 0]])"
            ]
          },
          "metadata": {
            "tags": []
          },
          "execution_count": 27
        }
      ]
    },
    {
      "cell_type": "markdown",
      "metadata": {
        "id": "MfGW6-qbOKGT",
        "colab_type": "text"
      },
      "source": [
        "Dalam hal ini, penggolongnya sesuai pada setiap instance yang diberi beberapa label. [MultiLabelBinarizer](https://scikit-learn.org/stable/modules/generated/sklearn.preprocessing.MultiLabelBinarizer.html#sklearn.preprocessing.MultiLabelBinarizer) digunakan untuk membuat binarize array 2d dari multilabel agar sesuai. Hasilnya, `predict()` mengembalikan array 2d dengan beberapa label yang diprediksi untuk setiap instance."
      ]
    }
  ]
}